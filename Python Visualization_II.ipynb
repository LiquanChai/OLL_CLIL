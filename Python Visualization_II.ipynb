{
 "cells": [
  {
   "cell_type": "markdown",
   "metadata": {},
   "source": [
    "# Data Visualization with Python II\n",
    "\n",
    "Seaborn has a variety of charts, each one with a specific purpose. You can use these charts for both, exploration (exploring your data) and presentation (showing the data to others). In both cases, make sure the charts \n",
    "\n",
    "* have proper titles, \n",
    "* have comparable axes scales if necessary, \n",
    "* the fonts are large enough to be readable, and \n",
    "* the chart conveys your message. \n",
    "\n",
    "Generally, you find more tutorials on Seaborn here: https://seaborn.pydata.org/tutorial.html\n",
    "\n",
    "Below, we are going through some more charts and when they are useful.\n"
   ]
  },
  {
   "cell_type": "markdown",
   "metadata": {},
   "source": [
    "## Violin plots\n",
    "\n",
    "Violin plots show distributions for several variables in a nice overview. The below example shows a violin plot for ages of male and female passengers. It's the same data than in the previous example with the histogram. \n",
    "\n",
    "Seaborn has two ways to creating violin plots\n",
    "* `violinplot`: https://seaborn.pydata.org/generated/seaborn.violinplot.html\n",
    "* `factorplot`: https://seaborn.pydata.org/generated/seaborn.factorplot.html\n",
    "\n",
    "Both produce similar graphics. For simplicity, we use `factorplot` here. The following line creates a violinplot (`kind`) for the dataframe `df` (`data`), showing `Sex` on the x-axis (`x`) and `Age` on the y-axis (`y`).\n",
    "\n",
    "`sns.factorplot(x='Sex', y='Age', data=df, kind='violin')`"
   ]
  },
  {
   "cell_type": "code",
   "execution_count": 1,
   "metadata": {
    "collapsed": false,
    "scrolled": true
   },
   "outputs": [
    {
     "data": {
      "image/png": "[encoded data removed]",
      "text/plain": [
       "<matplotlib.figure.Figure at 0x1177fe358>"
      ]
     },
     "metadata": {},
     "output_type": "display_data"
    }
   ],
   "source": [
    "# library & dataset\n",
    "import seaborn as sns\n",
    "import pandas as pd\n",
    "%matplotlib inline\n",
    "\n",
    "df = pd.read_csv('titanic.csv')\n",
    " \n",
    "# plot\n",
    "sns.factorplot(x='Sex', y='Age', data=df, kind='violin')  \n",
    "sns.plt.show()"
   ]
  },
  {
   "cell_type": "markdown",
   "metadata": {},
   "source": [
    "_1) Can you plot charts showing the different fares per passanger class?_ \n",
    "\n",
    "Set the y-axes to only positive values. Play around with the largest value on the y-axes to explore your data. Create one plot for each max value on the y-axis: 1000, 500, 100 and create one chart for each value."
   ]
  },
  {
   "cell_type": "code",
   "execution_count": null,
   "metadata": {
    "collapsed": false,
    "scrolled": true
   },
   "outputs": [],
   "source": []
  },
  {
   "cell_type": "markdown",
   "metadata": {},
   "source": [
    "What can you tell about the data and distributions? Write down 3 observations. \n",
    "\n",
    "The following field used the markdown language (https://en.wikipedia.org/wiki/Markdown) used in Wikipedia. Create a bullet point list like so: "
   ]
  },
  {
   "cell_type": "raw",
   "metadata": {},
   "source": [
    "* one\n",
    "* two\n",
    "* tree"
   ]
  },
  {
   "cell_type": "markdown",
   "metadata": {},
   "source": []
  },
  {
   "cell_type": "markdown",
   "metadata": {},
   "source": [
    "## Barplot with error bars\n",
    "\n",
    "Barplots are some of the most common chart types and are widely used in scientific publications to show differences between conditions in a study. While violin plots and histograms show you about the distribution of data, the barplot tells you about:\n",
    "\n",
    "* the mean or a data field, and \n",
    "* the uncertainty.\n",
    "\n",
    "Both are imporant in communication and can be the result of an in-depth data analysis. While the distribution helps you to figure out the noise in the data and to generate hypthesis about the data, barplots are usually the final charts you show to prove your hypotheses and claims.\n",
    "\n",
    "https://seaborn.pydata.org/generated/seaborn.barplot.html\n",
    "\n",
    "The below code shows a barplot that represents the means for the data, shown in the above violine plot: "
   ]
  },
  {
   "cell_type": "code",
   "execution_count": null,
   "metadata": {
    "collapsed": false
   },
   "outputs": [],
   "source": []
  },
  {
   "cell_type": "markdown",
   "metadata": {},
   "source": [
    "2) Can you create barplots for some other data?\n"
   ]
  },
  {
   "cell_type": "code",
   "execution_count": null,
   "metadata": {
    "collapsed": false,
    "scrolled": false
   },
   "outputs": [],
   "source": []
  },
  {
   "cell_type": "markdown",
   "metadata": {},
   "source": [
    "Again, what can you see? Note down some observations below (again, using markdown)"
   ]
  },
  {
   "cell_type": "markdown",
   "metadata": {},
   "source": []
  },
  {
   "cell_type": "markdown",
   "metadata": {},
   "source": [
    "## Scatterplot\n",
    "\n",
    "The above plots (barplot, violinplot) were good to show differences in numerical variables (Age, Fare) across categorical variables (Sex, PClass, Survived). \n",
    "If you have two numerical variables (e.g. Fare and Age), you need a scatterplot: "
   ]
  },
  {
   "cell_type": "code",
   "execution_count": null,
   "metadata": {
    "collapsed": false
   },
   "outputs": [],
   "source": []
  },
  {
   "cell_type": "markdown",
   "metadata": {},
   "source": [
    "_3) Now, can you plot Age against Fare in our titanic dataset, with the hue of dots mapped to whether they survived or no?_ Again, correct the axis if nessary and add a title to the chart."
   ]
  },
  {
   "cell_type": "code",
   "execution_count": null,
   "metadata": {
    "collapsed": false
   },
   "outputs": [],
   "source": []
  },
  {
   "cell_type": "markdown",
   "metadata": {},
   "source": [
    "What can you see? Note down some observations:"
   ]
  },
  {
   "cell_type": "markdown",
   "metadata": {},
   "source": []
  },
  {
   "cell_type": "markdown",
   "metadata": {},
   "source": [
    "## Parallel Coordinates Plot (PCP)\n",
    "\n",
    "Scatterplots are neat when you have two numerical variables (e.g., Age, Fare) and perhaps one nominal (e.g, Sex, Survived). However, there are many data sets that have much more numerical variables. \n",
    "\n",
    "A PCP is created like so:"
   ]
  },
  {
   "cell_type": "code",
   "execution_count": null,
   "metadata": {
    "collapsed": false,
    "scrolled": false
   },
   "outputs": [],
   "source": []
  },
  {
   "cell_type": "markdown",
   "metadata": {},
   "source": [
    "Since you made it until here, explore https://python-graph-gallery.com and create some plots for the titanic or iris dataset. "
   ]
  },
  {
   "cell_type": "markdown",
   "metadata": {},
   "source": [
    "## Styling Charts\n",
    "\n",
    "This last part of the excercises is abot styling. Remember what has been said about the data-ink ratio and readability in the lecture. \n",
    "\n",
    "As you might have seen, the default figures produced by python are not optimally. Yet, there are many references and tutorials on how to style (e.g. color pallets) and optimzie (e.g. label size, background, tickmarks, legends) the charts. \n",
    "\n",
    "Your final assignment for this tutorial is familiarize yourself with the ways Seaborn allows modifying chart appearance and try them out on the charts in this notebook. \n",
    "\n",
    "Resources: \n",
    "* https://seaborn.pydata.org/tutorial/aesthetics.html\n",
    "* https://seaborn.pydata.org/tutorial/color_palettes.html\n",
    "\n",
    "Also check this refernce for tips and tricks in styling charts.\n",
    "* http://www.storytellingwithdata.com"
   ]
  },
  {
   "cell_type": "markdown",
   "metadata": {},
   "source": [
    "# Additional visualiztion tools\n",
    "\n",
    "Once you're fine with python, you will find visualiztion in python is limited. Check out the tools listed here https://github.com/benjbach/vishub/wiki/Visualization-Tools\n",
    "\n",
    "Chose one and create some visualizations for some dataset of your choice: \n",
    "https://github.com/benjbach/vishub/wiki/Open-Data-Sets\n",
    "\n",
    "\n"
   ]
  }
 ],
 "metadata": {
  "anaconda-cloud": {},
  "kernelspec": {
   "display_name": "Python [Root]",
   "language": "python",
   "name": "Python [Root]"
  },
  "language_info": {
   "codemirror_mode": {
    "name": "ipython",
    "version": 3
   },
   "file_extension": ".py",
   "mimetype": "text/x-python",
   "name": "python",
   "nbconvert_exporter": "python",
   "pygments_lexer": "ipython3",
   "version": "3.5.2"
  }
 },
 "nbformat": 4,
 "nbformat_minor": 0
}
