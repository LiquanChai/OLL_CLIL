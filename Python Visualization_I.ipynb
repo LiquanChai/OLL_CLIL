{
 "cells": [
  {
   "cell_type": "markdown",
   "metadata": {
    "collapsed": true
   },
   "source": [
    "# Data Visualization with Python\n",
    "\n",
    "This week we are going to extend the visualization examples from last time. Python has plenty of pre-coded visualizations coming in different packages. A list of the most important graphics, alongside with pointers to their code and exampls, is founud here: https://python-graph-gallery.com\n",
    "\n",
    "Python provides several packages for visualiztion: https://blog.modeanalytics.com/python-data-visualization-libraries. \n",
    "\n",
    "The most important ones probably are:\n",
    "* Seaborn: https://seaborn.pydata.org (standard statistical graphics)\n",
    "* Boketh: https://bokeh.pydata.org/en/latest (simple interactive visualiztions)\n",
    "* ggplot: http://ggplot.yhathq.com\n",
    "\n",
    "In this tutorial we are going to use **Seaborn**, since it provides most of the stuff we will need in the course and is very simple to use. For more sophisticated visualizations that go beyond these libraries, please check the Java Script libraries D3 (https://d3js.org) or Processing (https://processing.org) for Java."
   ]
  },
  {
   "cell_type": "markdown",
   "metadata": {},
   "source": []
  },
  {
   "cell_type": "markdown",
   "metadata": {
    "collapsed": true
   },
   "source": [
    "## Exploratory Data Analysis\n",
    "\n",
    "First, we will import some data. Let's import the `titanic.csv` data set as csv into a pandas dataframe. \n",
    "\n",
    "**Tip**, here is how you import any csv file: \n",
    "\n",
    "`\n",
    "import pandas as pd\n",
    "df = pd.read_csv('myFile.csv')\n",
    "`"
   ]
  },
  {
   "cell_type": "code",
   "execution_count": null,
   "metadata": {
    "collapsed": false,
    "scrolled": true
   },
   "outputs": [],
   "source": []
  },
  {
   "cell_type": "markdown",
   "metadata": {},
   "source": [
    "### Simple Measures (repetition)\n",
    "\n",
    "The next few excercises are meant a repetition of previous content. You can start by exploring a data set by getting some very simple measures on all the columns. \n",
    "\n",
    "\n",
    "_1) In the following, calculate the min, max, and mean on each column with a numeric (quantiative) value._\n",
    "\n",
    "**Tip**: here is how you select an entire row in pandas: \n",
    "`\n",
    "df['columnName']\n",
    "`\n",
    "\n",
    "**Tip**: here is how you calculate a value on an entire row in your dataframe:\n",
    "\n",
    "`\n",
    "np.mean(df['myColumn'])\n",
    "`\n",
    "\n",
    "Note that you first need to import the `numpy` package. \n",
    "\n",
    "Print the results in the following format: \n",
    "\n",
    "> Max 'Survived': 512.32920000000001"
   ]
  },
  {
   "cell_type": "code",
   "execution_count": null,
   "metadata": {
    "collapsed": false,
    "scrolled": true
   },
   "outputs": [],
   "source": []
  },
  {
   "cell_type": "markdown",
   "metadata": {},
   "source": [
    "_2) Can you calculate how may males and females have been on board?_\n",
    "\n",
    "**Tip**: filtering rows works like so\n",
    "`\n",
    "newDataFrame = df[df['columnName'] == value]\n",
    "`\n",
    "\n",
    "**Tip**: Counting rows for a dataframe `df` goes like so:\n",
    "`\n",
    "df.shape[0] # > rows\n",
    "df.shape[1] # > columns\n",
    "`\n"
   ]
  },
  {
   "cell_type": "code",
   "execution_count": null,
   "metadata": {
    "collapsed": false
   },
   "outputs": [],
   "source": []
  },
  {
   "cell_type": "markdown",
   "metadata": {},
   "source": [
    "_3) Can you print the min age of all male vs. female?_\n",
    "\n",
    "**Tip**: Create a new dataframe for each gender: one for male and one for female, then get the mean values for the ages.\n",
    "`\n",
    "newDataFrame = df[oldDataFrame.loc['columnName']==value]\n",
    "`"
   ]
  },
  {
   "cell_type": "code",
   "execution_count": null,
   "metadata": {
    "collapsed": false,
    "scrolled": true
   },
   "outputs": [],
   "source": []
  },
  {
   "cell_type": "markdown",
   "metadata": {},
   "source": [
    "### Distribution Plots\n",
    "\n",
    "Having refreshed some of the knowledge about filtering rows and columns, we can now start plotting some of the data with the Seaborn package. \n",
    "\n",
    "There is settings that we have to set in order to use searborn properly with jupyter. We need to tell python to render graphics _inline_. By default, python (and jupyter) will generate a separate .png for each chart you're creating. However, we want charts to be shown inside the python notebook, i.e. below. To do this, simply tell python the following in the beginning of your code: \n",
    "\n",
    "`%matplotlib inline`  (keep the '%' at the beginning!)\n",
    "\n",
    "**Note**, in some examples, python throws _warnings_ which are written on a red background. You can ignore them in this tutorial as all examples work fine and you should be able to see the charts\n",
    "\n",
    "Last, you need to import the `seaborn` package. The standard abbreviation is `sns`. The below code shows you the distribution of a set of numbers.\n",
    "\n",
    "`import seaborn as sns                       # this imports the seaborn package\n",
    "%matplotlib inline                           # tells python to show charts inline (very important)\n",
    "chart = sns.distplot([0,1,1,1,5,5,8,8,10])   # the distplot function of the seaborn (sns) package creates a chart \n",
    "chart.set_title('Some distribution of numbers')    # Gives the chart a title\n",
    "sns.plt.show()                              # shows the plot`\n",
    "\n",
    "4) Try it with alteringn numbers (don't forgt '`%matplotlib inline`') \n"
   ]
  },
  {
   "cell_type": "code",
   "execution_count": null,
   "metadata": {
    "collapsed": false
   },
   "outputs": [],
   "source": []
  },
  {
   "cell_type": "markdown",
   "metadata": {},
   "source": [
    "In the distribution plot, we see our data values on he x-axis, and their frequency on the y-axis.\n",
    "\n",
    "_5) Plot the distribution of age for all passengers, including a title._\n",
    "\n",
    "**Tip** Instead of an array of numbers you want to pass a column in the dataframe: df['columnnamehere']"
   ]
  },
  {
   "cell_type": "code",
   "execution_count": null,
   "metadata": {
    "collapsed": false,
    "scrolled": true
   },
   "outputs": [],
   "source": []
  },
  {
   "cell_type": "markdown",
   "metadata": {},
   "source": [
    "What do you observe? Note down 3 observations in the field below.\n",
    "The following field used the markdown language (https://en.wikipedia.org/wiki/Markdown) used in Wikipedia. Create a bullet point list like so: "
   ]
  },
  {
   "cell_type": "raw",
   "metadata": {},
   "source": [
    "* one\n",
    "* two\n",
    "* tree"
   ]
  },
  {
   "cell_type": "markdown",
   "metadata": {},
   "source": []
  },
  {
   "cell_type": "markdown",
   "metadata": {
    "collapsed": true
   },
   "source": [
    "_6) Plot the distribution of age and fares for male and female passangers separtely._\n",
    "\n",
    "Again, put titles on all of your charts, otherwise you will get confused quickly."
   ]
  },
  {
   "cell_type": "code",
   "execution_count": null,
   "metadata": {
    "collapsed": false,
    "scrolled": false
   },
   "outputs": [],
   "source": []
  },
  {
   "cell_type": "markdown",
   "metadata": {},
   "source": [
    "### Laying out charts\n",
    "\n",
    "The above example should have plotted you all charts vertically, which is hard to read. To layout charts properly, try using the `plt.subplots`, to create a 2x2 layout grid:\n",
    "\n",
    "`\n",
    "f, axes = sns.plt.subplots(2, 2, figsize=(7, 7), sharex=True)\n",
    "`\n",
    "\n",
    "You can then place your charts into this grid using the `ax=axes[x,y]` attribute on the `distplot` function.\n",
    "\n",
    "`\n",
    "sns.distplot( df[\"sepal_length\"] , ax=axes[0, 0])   # top (0) left (0)\n",
    "sns.distplot( df[\"sepal_width\"] , ax=axes[0, 1])    # top (0) right (1)\n",
    "sns.distplot( df[\"petal_length\"] , ax=axes[1, 0])   # bottom (1) left (0)\n",
    "sns.distplot( df[\"petal_width\"] , ax=axes[1, 1])    # bottom (1) right (1)\n",
    "sns.plt.show()\n",
    "`"
   ]
  },
  {
   "cell_type": "markdown",
   "metadata": {},
   "source": [
    "7) Can you plot the above charts (male, female ages) in a 2 x 2 grid?"
   ]
  },
  {
   "cell_type": "code",
   "execution_count": null,
   "metadata": {
    "collapsed": false
   },
   "outputs": [],
   "source": []
  },
  {
   "cell_type": "markdown",
   "metadata": {
    "collapsed": true
   },
   "source": [
    "### Adjusting axes\n",
    "\n",
    "The above charts are hard to compare. Not just because the data is two different charts (and your eyes must wander), but because the axis are optimized to best show the plot! This means that x and y axis can have totally different scales across different charts, depending on the data. E.g. in my case, the max value on the male age x-axis is 100, while the same value in the female chart is 80!\n",
    "\n",
    "Similar, in the fare charts, they y-axis is showing different values (.035 for female, .05 for male).\n",
    "\n",
    "Eventually, my charts show values smaller than '0' which does not make sense for both age and fare. \n",
    "\n",
    "Thus, seaborn plots can be confusing at a first glance. We can overcome these problems by telling seaborn the ranges we want to see on each axis. There are two simple methods: \n",
    "\n",
    "`\n",
    "sns.plt.ylim(10, 40)  # sets the min (e.g. 10) and max (e.g. 40) for the y-axis.\n",
    "sns.plt.ylim(10, 40)  # sets the min (e.g. 10) and max (e.g. 40) for the y-axis.\n",
    "`\n",
    "\n",
    "8) Can you replot the two charts ages (male and female) with the same axes values and without negative values? Be careful to chose the 'right values'."
   ]
  },
  {
   "cell_type": "code",
   "execution_count": null,
   "metadata": {
    "collapsed": false,
    "scrolled": true
   },
   "outputs": [],
   "source": []
  },
  {
   "cell_type": "markdown",
   "metadata": {},
   "source": [
    "\n"
   ]
  },
  {
   "cell_type": "markdown",
   "metadata": {},
   "source": []
  },
  {
   "cell_type": "markdown",
   "metadata": {
    "collapsed": true
   },
   "source": [
    "### Plotting several data sets into the same plot\n",
    "\n",
    "Exact comparison might still be tricky, at least the reader might not understand the differences you want to higlight. \n",
    "\n",
    "The most convenient way is to plot both data into the same chart. Simply call `sns.plt.show()` after you have created all your charts. When you create a chart with \n",
    "\n",
    "`\n",
    "sns.distplot([1,2,3,4,5])\n",
    "`\n",
    "\n",
    "Python keeps the cart in memory but does not create the png. When you create another chart, python simply puts that new chart 'on top of' the other one. \n",
    "\n",
    "9) Can you plot both (male and female) distribution within the same chart? Be careful to chose an informative title."
   ]
  },
  {
   "cell_type": "code",
   "execution_count": null,
   "metadata": {
    "collapsed": false
   },
   "outputs": [],
   "source": []
  },
  {
   "cell_type": "markdown",
   "metadata": {},
   "source": [
    "What do you observe? Note down 2 obersvations: "
   ]
  },
  {
   "cell_type": "markdown",
   "metadata": {},
   "source": []
  },
  {
   "cell_type": "markdown",
   "metadata": {
    "collapsed": true
   },
   "source": [
    "10) Chose some other columns from the data field and show their distributions, e.g. classes, number of relatives, and fares and plot. What do you see?"
   ]
  },
  {
   "cell_type": "code",
   "execution_count": null,
   "metadata": {
    "collapsed": true
   },
   "outputs": [],
   "source": []
  },
  {
   "cell_type": "markdown",
   "metadata": {},
   "source": [
    "11) Remember from week2 how to filter rows conditionally; plot some distributions for, e.g. age of women who survived vs. age of woman who did not survive. "
   ]
  },
  {
   "cell_type": "code",
   "execution_count": null,
   "metadata": {
    "collapsed": true
   },
   "outputs": [],
   "source": []
  }
 ],
 "metadata": {
  "anaconda-cloud": {},
  "kernelspec": {
   "display_name": "Python [Root]",
   "language": "python",
   "name": "Python [Root]"
  },
  "language_info": {
   "codemirror_mode": {
    "name": "ipython",
    "version": 3
   },
   "file_extension": ".py",
   "mimetype": "text/x-python",
   "name": "python",
   "nbconvert_exporter": "python",
   "pygments_lexer": "ipython3",
   "version": "3.5.2"
  }
 },
 "nbformat": 4,
 "nbformat_minor": 0
}
